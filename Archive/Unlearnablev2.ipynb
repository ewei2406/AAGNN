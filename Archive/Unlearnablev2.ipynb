{
  "nbformat": 4,
  "nbformat_minor": 0,
  "metadata": {
    "colab": {
      "name": "Unlearnablev2",
      "provenance": [],
      "authorship_tag": "ABX9TyMhkdHDopRje/7hgUAiJu64",
      "include_colab_link": true
    },
    "kernelspec": {
      "name": "python3",
      "display_name": "Python 3"
    },
    "language_info": {
      "name": "python"
    }
  },
  "cells": [
    {
      "cell_type": "markdown",
      "metadata": {
        "id": "view-in-github",
        "colab_type": "text"
      },
      "source": [
        "<a href=\"https://colab.research.google.com/github/ewei2406/AAGNN/blob/main/Unlearnablev2.ipynb\" target=\"_parent\"><img src=\"https://colab.research.google.com/assets/colab-badge.svg\" alt=\"Open In Colab\"/></a>"
      ]
    },
    {
      "cell_type": "markdown",
      "metadata": {
        "id": "symSU7Gtxf-g"
      },
      "source": [
        "# Requirements"
      ]
    },
    {
      "cell_type": "code",
      "metadata": {
        "id": "wGplQ4BCxSqS",
        "colab": {
          "base_uri": "https://localhost:8080/"
        },
        "outputId": "c936f009-818c-456f-d7e8-8b9a5367cf82"
      },
      "source": [
        "!pip install torch-scatter -f https://data.pyg.org/whl/torch-1.9.0+cu111.html\n",
        "!pip install torch-sparse -f https://data.pyg.org/whl/torch-1.9.0+cu111.html\n",
        "!pip install torch-geometric"
      ],
      "execution_count": null,
      "outputs": [
        {
          "output_type": "stream",
          "name": "stdout",
          "text": [
            "Looking in links: https://data.pyg.org/whl/torch-1.9.0+cu111.html\n",
            "Collecting torch-scatter\n",
            "  Downloading https://data.pyg.org/whl/torch-1.9.0%2Bcu111/torch_scatter-2.0.9-cp37-cp37m-linux_x86_64.whl (10.4 MB)\n",
            "\u001b[K     |████████████████████████████████| 10.4 MB 2.7 MB/s \n",
            "\u001b[?25hInstalling collected packages: torch-scatter\n",
            "Successfully installed torch-scatter-2.0.9\n",
            "Looking in links: https://data.pyg.org/whl/torch-1.9.0+cu111.html\n",
            "Collecting torch-sparse\n",
            "  Downloading https://data.pyg.org/whl/torch-1.9.0%2Bcu111/torch_sparse-0.6.12-cp37-cp37m-linux_x86_64.whl (3.7 MB)\n",
            "\u001b[K     |████████████████████████████████| 3.7 MB 1.9 MB/s \n",
            "\u001b[?25hRequirement already satisfied: scipy in /usr/local/lib/python3.7/dist-packages (from torch-sparse) (1.4.1)\n",
            "Requirement already satisfied: numpy>=1.13.3 in /usr/local/lib/python3.7/dist-packages (from scipy->torch-sparse) (1.19.5)\n",
            "Installing collected packages: torch-sparse\n",
            "Successfully installed torch-sparse-0.6.12\n",
            "Collecting torch-geometric\n",
            "  Downloading torch_geometric-2.0.2.tar.gz (325 kB)\n",
            "\u001b[K     |████████████████████████████████| 325 kB 5.3 MB/s \n",
            "\u001b[?25hRequirement already satisfied: numpy in /usr/local/lib/python3.7/dist-packages (from torch-geometric) (1.19.5)\n",
            "Requirement already satisfied: tqdm in /usr/local/lib/python3.7/dist-packages (from torch-geometric) (4.62.3)\n",
            "Requirement already satisfied: scipy in /usr/local/lib/python3.7/dist-packages (from torch-geometric) (1.4.1)\n",
            "Requirement already satisfied: networkx in /usr/local/lib/python3.7/dist-packages (from torch-geometric) (2.6.3)\n",
            "Requirement already satisfied: scikit-learn in /usr/local/lib/python3.7/dist-packages (from torch-geometric) (0.22.2.post1)\n",
            "Requirement already satisfied: requests in /usr/local/lib/python3.7/dist-packages (from torch-geometric) (2.23.0)\n",
            "Requirement already satisfied: pandas in /usr/local/lib/python3.7/dist-packages (from torch-geometric) (1.1.5)\n",
            "Collecting rdflib\n",
            "  Downloading rdflib-6.0.2-py3-none-any.whl (407 kB)\n",
            "\u001b[K     |████████████████████████████████| 407 kB 36.9 MB/s \n",
            "\u001b[?25hRequirement already satisfied: googledrivedownloader in /usr/local/lib/python3.7/dist-packages (from torch-geometric) (0.4)\n",
            "Requirement already satisfied: jinja2 in /usr/local/lib/python3.7/dist-packages (from torch-geometric) (2.11.3)\n",
            "Requirement already satisfied: pyparsing in /usr/local/lib/python3.7/dist-packages (from torch-geometric) (2.4.7)\n",
            "Collecting yacs\n",
            "  Downloading yacs-0.1.8-py3-none-any.whl (14 kB)\n",
            "Requirement already satisfied: PyYAML in /usr/local/lib/python3.7/dist-packages (from torch-geometric) (3.13)\n",
            "Requirement already satisfied: MarkupSafe>=0.23 in /usr/local/lib/python3.7/dist-packages (from jinja2->torch-geometric) (2.0.1)\n",
            "Requirement already satisfied: pytz>=2017.2 in /usr/local/lib/python3.7/dist-packages (from pandas->torch-geometric) (2018.9)\n",
            "Requirement already satisfied: python-dateutil>=2.7.3 in /usr/local/lib/python3.7/dist-packages (from pandas->torch-geometric) (2.8.2)\n",
            "Requirement already satisfied: six>=1.5 in /usr/local/lib/python3.7/dist-packages (from python-dateutil>=2.7.3->pandas->torch-geometric) (1.15.0)\n",
            "Requirement already satisfied: setuptools in /usr/local/lib/python3.7/dist-packages (from rdflib->torch-geometric) (57.4.0)\n",
            "Collecting isodate\n",
            "  Downloading isodate-0.6.0-py2.py3-none-any.whl (45 kB)\n",
            "\u001b[K     |████████████████████████████████| 45 kB 2.7 MB/s \n",
            "\u001b[?25hRequirement already satisfied: chardet<4,>=3.0.2 in /usr/local/lib/python3.7/dist-packages (from requests->torch-geometric) (3.0.4)\n",
            "Requirement already satisfied: certifi>=2017.4.17 in /usr/local/lib/python3.7/dist-packages (from requests->torch-geometric) (2021.5.30)\n",
            "Requirement already satisfied: urllib3!=1.25.0,!=1.25.1,<1.26,>=1.21.1 in /usr/local/lib/python3.7/dist-packages (from requests->torch-geometric) (1.24.3)\n",
            "Requirement already satisfied: idna<3,>=2.5 in /usr/local/lib/python3.7/dist-packages (from requests->torch-geometric) (2.10)\n",
            "Requirement already satisfied: joblib>=0.11 in /usr/local/lib/python3.7/dist-packages (from scikit-learn->torch-geometric) (1.0.1)\n",
            "Building wheels for collected packages: torch-geometric\n",
            "  Building wheel for torch-geometric (setup.py) ... \u001b[?25l\u001b[?25hdone\n",
            "  Created wheel for torch-geometric: filename=torch_geometric-2.0.2-py3-none-any.whl size=535570 sha256=ebad36b2e4ace19ec39457a7fb3dcd7f6cc8925ce1af1e46973feb2ca5976593\n",
            "  Stored in directory: /root/.cache/pip/wheels/3f/08/13/2321517088bb2e95bfd0e45033bb9c923189e5b2078e0be4ef\n",
            "Successfully built torch-geometric\n",
            "Installing collected packages: isodate, yacs, rdflib, torch-geometric\n",
            "Successfully installed isodate-0.6.0 rdflib-6.0.2 torch-geometric-2.0.2 yacs-0.1.8\n"
          ]
        }
      ]
    },
    {
      "cell_type": "code",
      "metadata": {
        "id": "kaRqsWmgxWRt"
      },
      "source": [
        "import torch\n",
        "import torch_geometric\n",
        "import seaborn as sns\n",
        "import numpy as np\n",
        "import pandas as pd\n",
        "import torch.nn.functional as F\n",
        "import matplotlib.pyplot as plt"
      ],
      "execution_count": null,
      "outputs": []
    },
    {
      "cell_type": "code",
      "metadata": {
        "id": "5g0Dn9bgxYtj"
      },
      "source": [
        "from torch_geometric.loader import DataLoader\n",
        "from torch_geometric.datasets import Planetoid\n",
        "from torch_geometric.utils.dropout import dropout_adj\n",
        "from torch_geometric.nn import DenseGCNConv"
      ],
      "execution_count": null,
      "outputs": []
    },
    {
      "cell_type": "markdown",
      "metadata": {
        "id": "EQOwg0RGxddC"
      },
      "source": [
        "# Data"
      ]
    },
    {
      "cell_type": "code",
      "metadata": {
        "colab": {
          "base_uri": "https://localhost:8080/"
        },
        "id": "CKd6KSuexaxE",
        "outputId": "efdc1e5f-081e-4493-98da-c99a2e066727"
      },
      "source": [
        "dataset = Planetoid(root='/tmp/Cora', name='Cora')\n",
        "data = dataset[0]"
      ],
      "execution_count": null,
      "outputs": [
        {
          "output_type": "stream",
          "name": "stderr",
          "text": [
            "Downloading https://github.com/kimiyoung/planetoid/raw/master/data/ind.cora.x\n",
            "Downloading https://github.com/kimiyoung/planetoid/raw/master/data/ind.cora.tx\n",
            "Downloading https://github.com/kimiyoung/planetoid/raw/master/data/ind.cora.allx\n",
            "Downloading https://github.com/kimiyoung/planetoid/raw/master/data/ind.cora.y\n",
            "Downloading https://github.com/kimiyoung/planetoid/raw/master/data/ind.cora.ty\n",
            "Downloading https://github.com/kimiyoung/planetoid/raw/master/data/ind.cora.ally\n",
            "Downloading https://github.com/kimiyoung/planetoid/raw/master/data/ind.cora.graph\n",
            "Downloading https://github.com/kimiyoung/planetoid/raw/master/data/ind.cora.test.index\n",
            "Processing...\n",
            "Done!\n"
          ]
        }
      ]
    },
    {
      "cell_type": "code",
      "metadata": {
        "id": "47sv1tYByKfk"
      },
      "source": [
        "device = torch.device('cuda' if torch.cuda.is_available() else 'cpu')\n",
        "data = dataset[0].to(device)"
      ],
      "execution_count": null,
      "outputs": []
    },
    {
      "cell_type": "markdown",
      "metadata": {
        "id": "uQtQ0RSBxpfc"
      },
      "source": [
        "# Functions"
      ]
    },
    {
      "cell_type": "code",
      "metadata": {
        "id": "aeK75O8Bxo88"
      },
      "source": [
        "def to_sparse(edge_ind):\n",
        "  return torch.sparse_coo_tensor(edge_ind, torch.ones_like(edge_ind[0])).to_dense()\n",
        "\n",
        "def to_index(sparse):\n",
        "  res = sparse.float().nonzero().permute(1,0)\n",
        "  return res\n",
        "\n",
        "def mirror(sparse):\n",
        "  upper = torch.triu(sparse)\n",
        "  lower = torch.rot90(torch.flip(torch.triu(sparse, diagonal=1), [0]), 3, [0,1])\n",
        "  return upper + lower\n",
        "\n",
        "def set_diagonal(sparse, target=0):\n",
        "  copy = sparse.clone()\n",
        "  return copy.fill_diagonal_(target)\n",
        "\n",
        "def make_symmetric(sparse):\n",
        "  res = mirror(sparse)\n",
        "  # res = set_diagonal(res)\n",
        "  return res\n",
        "\n",
        "def invert_by(sparse, flip_dense):\n",
        "  return (sparse + flip_dense) - torch.mul(sparse * flip_dense, 2)\n"
      ],
      "execution_count": null,
      "outputs": []
    },
    {
      "cell_type": "markdown",
      "metadata": {
        "id": "tnikVMG5xkmY"
      },
      "source": [
        "# Model"
      ]
    },
    {
      "cell_type": "code",
      "metadata": {
        "id": "1u8hnmitxkEM"
      },
      "source": [
        "class GCN_Dense(torch.nn.Module):\n",
        "    def __init__(self):\n",
        "        super().__init__()\n",
        "        self.conv1 = DenseGCNConv(dataset.num_node_features, 64)\n",
        "        self.conv2 = DenseGCNConv(64, dataset.num_classes)\n",
        "\n",
        "    def forward(self, x, dense):\n",
        "        # x, edge_index = data.x, data.edge_index\n",
        "\n",
        "        x = self.conv1(x, dense)\n",
        "        x = F.relu(x)\n",
        "        x = F.dropout(x, training=self.training)\n",
        "        x = self.conv2(x, dense)\n",
        "\n",
        "        return F.log_softmax(x, dim=1)"
      ],
      "execution_count": null,
      "outputs": []
    },
    {
      "cell_type": "markdown",
      "metadata": {
        "id": "VTcha-Pvxs4y"
      },
      "source": [
        "# Train a model regularly"
      ]
    },
    {
      "cell_type": "code",
      "metadata": {
        "id": "yZ2XK--WxssI"
      },
      "source": [
        "def denseTrain(model_dense, data, optimizer, epochs):\n",
        "  model_dense.train()\n",
        "  for epoch in range(epochs):\n",
        "    optimizer.zero_grad()\n",
        "\n",
        "    pred = model_dense(data.x, to_sparse(data.edge_index)).squeeze()\n",
        "\n",
        "    train_correct = (pred.squeeze().argmax(1)[data.train_mask] == data.y[data.train_mask]).sum()\n",
        "    train_acc = int(train_correct) / int(data.train_mask.sum())\n",
        "\n",
        "    test_correct = (pred.squeeze().argmax(1)[data.test_mask] == data.y[data.test_mask]).sum()\n",
        "    test_acc = int(test_correct) / int(data.test_mask.sum())\n",
        "\n",
        "    loss = F.cross_entropy(pred[data.train_mask], data.y[data.train_mask])\n",
        "    print(f\"Epoch: {epoch} \\t Train: {train_acc*100:<.1f}% \\t Test: {test_acc*100:<.1f}% \\t Loss: {loss:<.2f}\")\n",
        "    \n",
        "    loss.backward()\n",
        "    optimizer.step()\n",
        "\n",
        "def denseTrainVersusReal(model_dense, data_altered, data_real, optimizer, epochs):\n",
        "  model_dense.train()\n",
        "  for epoch in range(epochs):\n",
        "    optimizer.zero_grad()\n",
        "\n",
        "    pred = model_dense(data_altered.x, to_sparse(data_altered.edge_index)).squeeze()\n",
        "\n",
        "    train_correct = (pred.squeeze().argmax(1)[data_altered.train_mask] == data_altered.y[data_altered.train_mask]).sum()\n",
        "    train_acc = int(train_correct) / int(data_altered.train_mask.sum())\n",
        "\n",
        "    real_pred = model_dense(data_real.x, to_sparse(data_real.edge_index)).squeeze()\n",
        "\n",
        "    test_correct = (real_pred.squeeze().argmax(1)[data_real.test_mask] == data_real.y[data_real.test_mask]).sum()\n",
        "    test_acc = int(test_correct) / int(data_real.test_mask.sum())\n",
        "\n",
        "    loss = F.cross_entropy(pred[data_altered.train_mask], data_altered.y[data_altered.train_mask])\n",
        "    print(f\"Epoch: {epoch} \\t Train: {train_acc*100:<.1f}% \\t Test: {test_acc*100:<.1f}% \\t Loss: {loss:<.2f}\")\n",
        "    \n",
        "    loss.backward()\n",
        "    optimizer.step()"
      ],
      "execution_count": null,
      "outputs": []
    },
    {
      "cell_type": "code",
      "metadata": {
        "colab": {
          "base_uri": "https://localhost:8080/"
        },
        "id": "7vKE1tYJxxSq",
        "outputId": "c11eafa0-c91d-47a0-a95f-bca682a6c87f"
      },
      "source": [
        "model_dense = GCN_Dense().to(device)\n",
        "optimizer = torch.optim.Adam(model_dense.parameters(), lr=0.01, weight_decay=5e-4)\n",
        "denseTrain(model_dense, data, optimizer, 10)"
      ],
      "execution_count": null,
      "outputs": [
        {
          "output_type": "stream",
          "name": "stdout",
          "text": [
            "Epoch: 0 \t Train: 12.9% \t Test: 16.6% \t Loss: 1.94\n",
            "Epoch: 1 \t Train: 90.0% \t Test: 59.7% \t Loss: 1.69\n",
            "Epoch: 2 \t Train: 95.0% \t Test: 68.3% \t Loss: 1.40\n",
            "Epoch: 3 \t Train: 97.9% \t Test: 71.8% \t Loss: 1.05\n",
            "Epoch: 4 \t Train: 95.7% \t Test: 73.1% \t Loss: 0.82\n",
            "Epoch: 5 \t Train: 95.7% \t Test: 72.8% \t Loss: 0.63\n",
            "Epoch: 6 \t Train: 97.9% \t Test: 75.8% \t Loss: 0.48\n",
            "Epoch: 7 \t Train: 96.4% \t Test: 76.1% \t Loss: 0.36\n",
            "Epoch: 8 \t Train: 98.6% \t Test: 77.2% \t Loss: 0.25\n",
            "Epoch: 9 \t Train: 98.6% \t Test: 78.5% \t Loss: 0.21\n"
          ]
        }
      ]
    },
    {
      "cell_type": "markdown",
      "metadata": {
        "id": "pq0OJkrr8-p0"
      },
      "source": [
        "# FGSM like attack (Evasion) on regularly trained model"
      ]
    },
    {
      "cell_type": "code",
      "metadata": {
        "id": "wmoCF46r8iur"
      },
      "source": [
        "def fgsm_dense(model, data, epsilon=0.01):\n",
        "  random_perturbed_data = data.clone()\n",
        "\n",
        "  dense = to_sparse(random_perturbed_data.edge_index)\n",
        "  delta = torch.empty(dense.shape).uniform_(0, 1).bernoulli()\n",
        "  delta = make_symmetric(delta)\n",
        "  delta.requires_grad = True\n",
        "  res = invert_by(dense, delta)\n",
        "\n",
        "  random_perturbed_data.edge_index = to_index(res)\n",
        "\n",
        "  pred = model(data.x, res).squeeze()\n",
        "\n",
        "  loss = F.cross_entropy(pred[data.train_mask], data.y[data.train_mask])\n",
        "  loss.backward()\n",
        "\n",
        "  res = epsilon * delta.grad.detach().sign().abs()\n",
        "  res = make_symmetric(torch.bernoulli(res))\n",
        "  return res"
      ],
      "execution_count": null,
      "outputs": []
    },
    {
      "cell_type": "code",
      "metadata": {
        "colab": {
          "base_uri": "https://localhost:8080/"
        },
        "id": "4ddO7MVKDriB",
        "outputId": "d425624c-00fe-45e6-ad73-32c44fb9de39"
      },
      "source": [
        "epsilon = 0.01 # Budget is 1% of edges\n",
        "residual = fgsm_dense(model_dense, data, 0.01) # Based off of regularly trained model\n",
        "\n",
        "print(f\"Percentage of edges altered: {residual.sum() / 2708 ** 2 / 0.01:.2f}%\")\n",
        "print(f\"Number of edges altered: {residual.sum():.0f}\")\n",
        "print(f\"Total potential edges: {2702 ** 2:.0f}\")\n",
        "\n",
        "fgsm_data = data.clone()\n",
        "altered = invert_by(to_sparse(fgsm_data.edge_index), residual)\n",
        "fgsm_data.edge_index = to_index(altered)\n",
        "\n",
        "pred = model_dense(fgsm_data.x, altered).squeeze().argmax(1)\n",
        "reg_pred = model_dense(data.x, to_sparse(data.edge_index)).squeeze().argmax(1)\n",
        "\n",
        "print(f\"Accuracy with fgsm: {(fgsm_data.y == pred).sum() / 27.08:.2f}%\")\n",
        "print(f\"Accuracy without fgsm: {(fgsm_data.y == reg_pred).sum() / 27.08:.2f}%\")"
      ],
      "execution_count": null,
      "outputs": [
        {
          "output_type": "stream",
          "name": "stdout",
          "text": [
            "Percentage of edges altered: 1.00%\n",
            "Number of edges altered: 73150\n",
            "Total potential edges: 7300804\n",
            "Accuracy with fgsm: 36.63%\n",
            "Accuracy without fgsm: 78.03%\n"
          ]
        }
      ]
    },
    {
      "cell_type": "markdown",
      "metadata": {
        "id": "kvB41q6eymoz"
      },
      "source": [
        "# Train a model on a randomly perturbed dataset"
      ]
    },
    {
      "cell_type": "code",
      "metadata": {
        "id": "yM7w_a71yqEQ"
      },
      "source": [
        "random_perturbed_data = data.clone()\n",
        "epsilon = 0.01\n",
        "\n",
        "dense = to_sparse(random_perturbed_data.edge_index)\n",
        "\n",
        "delta = torch.empty(dense.shape).uniform_(0, epsilon).bernoulli()\n",
        "\n",
        "delta = make_symmetric(delta)\n",
        "res = invert_by(dense, delta)\n",
        "\n",
        "random_perturbed_data.edge_index = to_index(res)"
      ],
      "execution_count": null,
      "outputs": []
    },
    {
      "cell_type": "code",
      "metadata": {
        "colab": {
          "base_uri": "https://localhost:8080/"
        },
        "id": "4ZBhAnmm5sX_",
        "outputId": "49dbd573-f39e-4ed4-ad52-99543a817cbf"
      },
      "source": [
        "edges_changed = delta.sum() / 2\n",
        "expected_changed = 0.001 * (2708 ** 2) // 4\n",
        "total_edges = data.edge_index.shape\n",
        "(edges_changed, total_edges)"
      ],
      "execution_count": null,
      "outputs": [
        {
          "output_type": "execute_result",
          "data": {
            "text/plain": [
              "(tensor(18307.5000), torch.Size([2, 10556]))"
            ]
          },
          "metadata": {},
          "execution_count": 13
        }
      ]
    },
    {
      "cell_type": "code",
      "metadata": {
        "colab": {
          "base_uri": "https://localhost:8080/"
        },
        "id": "11iC3gD43t9x",
        "outputId": "0a4eb417-5c53-4265-fcff-c8388c73ee1a"
      },
      "source": [
        "model_dense_perturbed = GCN_Dense().to(device)\n",
        "optimizer_p = torch.optim.Adam(model_dense_perturbed.parameters(), lr=0.01, weight_decay=5e-4)\n",
        "denseTrainVersusReal(model_dense_perturbed, random_perturbed_data, data, optimizer_p, 10)"
      ],
      "execution_count": null,
      "outputs": [
        {
          "output_type": "stream",
          "name": "stdout",
          "text": [
            "Epoch: 0 \t Train: 17.9% \t Test: 15.9% \t Loss: 1.95\n",
            "Epoch: 1 \t Train: 55.0% \t Test: 49.3% \t Loss: 1.90\n",
            "Epoch: 2 \t Train: 73.6% \t Test: 60.9% \t Loss: 1.86\n",
            "Epoch: 3 \t Train: 79.3% \t Test: 64.6% \t Loss: 1.80\n",
            "Epoch: 4 \t Train: 82.1% \t Test: 66.4% \t Loss: 1.73\n",
            "Epoch: 5 \t Train: 84.3% \t Test: 67.6% \t Loss: 1.67\n",
            "Epoch: 6 \t Train: 86.4% \t Test: 69.1% \t Loss: 1.60\n",
            "Epoch: 7 \t Train: 88.6% \t Test: 70.9% \t Loss: 1.52\n",
            "Epoch: 8 \t Train: 87.9% \t Test: 73.1% \t Loss: 1.44\n",
            "Epoch: 9 \t Train: 90.7% \t Test: 71.3% \t Loss: 1.38\n"
          ]
        }
      ]
    },
    {
      "cell_type": "markdown",
      "metadata": {
        "id": "VVIC_hr5L4Bc"
      },
      "source": [
        "# Generate error-minimizing noise"
      ]
    },
    {
      "cell_type": "code",
      "metadata": {
        "colab": {
          "base_uri": "https://localhost:8080/"
        },
        "id": "_gRmzVlyL3bY",
        "outputId": "c3e5297a-31f5-45a5-ab65-33281d80ab4c"
      },
      "source": [
        "minimize_data = data.clone()\n",
        "test_model = GCN_Dense().to(device)\n",
        "optimizer_t = torch.optim.Adam(test_model.parameters(), lr=0.01, weight_decay=5e-4)\n",
        "\n",
        "# model_dense\n",
        "\n",
        "epsilon = 0.01\n",
        "dense = to_sparse(minimize_data.edge_index)\n",
        "delta = torch.empty(dense.shape).uniform_(0, 1).bernoulli()\n",
        "\n",
        "delta = make_symmetric(delta)\n",
        "delta.requires_grad = True\n",
        "res = invert_by(dense, delta)\n",
        "\n",
        "test_model.train()\n",
        "for epoch in range(20):\n",
        "  optimizer_t.zero_grad()\n",
        "\n",
        "  pred = test_model(data.x, to_sparse(data.edge_index)).squeeze()\n",
        "  loss = F.cross_entropy(pred[data.train_mask], data.y[data.train_mask])\n",
        "\n",
        "  loss.backward(retain_graph=True)\n",
        "  torch.nn.utils.clip_grad_norm_(test_model.parameters(), 5.0)\n",
        "  optimizer_t.step()\n",
        "\n",
        "new_pred = test_model(data.x, to_sparse(data.edge_index))\n",
        "new_pred\n",
        "\n",
        "# res = epsilon * delta.grad.detach().sign().abs()\n",
        "# res = make_symmetric(torch.bernoulli(res))"
      ],
      "execution_count": null,
      "outputs": [
        {
          "output_type": "execute_result",
          "data": {
            "text/plain": [
              "tensor([[[-14.3064, -16.6655, -19.6197,  ..., -15.5678, -16.7716, -15.3058],\n",
              "         [-11.4681, -18.1974, -21.0339,  ...,  -2.6865, -17.6600, -18.4770],\n",
              "         [-12.7804, -18.2471, -21.3859,  ...,  -6.5674, -18.0307, -18.0126],\n",
              "         ...,\n",
              "         [-11.4321, -14.0844, -18.8945,  ..., -17.5201, -13.4681, -17.1307],\n",
              "         [-15.9891, -15.4739, -16.3817,  ..., -13.0341, -15.4339, -18.3894],\n",
              "         [-16.0421, -15.3969, -16.0787,  ..., -13.7059, -16.1950, -17.9801]]],\n",
              "       grad_fn=<LogSoftmaxBackward>)"
            ]
          },
          "metadata": {},
          "execution_count": 16
        }
      ]
    },
    {
      "cell_type": "code",
      "metadata": {
        "colab": {
          "base_uri": "https://localhost:8080/"
        },
        "id": "CkPeK2jXWavk",
        "outputId": "05d03573-d6c1-49c2-f3f1-dc0152dfa17f"
      },
      "source": [
        "model_min = GCN_Dense().to(device)\n",
        "optimizer_m = torch.optim.Adam(model_min.parameters(), lr=0.01, weight_decay=5e-4)\n",
        "denseTrainVersusReal(model_min, minimize_data, data, optimizer_m, 10)"
      ],
      "execution_count": null,
      "outputs": [
        {
          "output_type": "stream",
          "name": "stdout",
          "text": [
            "Epoch: 0 \t Train: 12.1% \t Test: 9.9% \t Loss: 1.96\n",
            "Epoch: 1 \t Train: 89.3% \t Test: 61.1% \t Loss: 1.72\n",
            "Epoch: 2 \t Train: 95.7% \t Test: 70.5% \t Loss: 1.46\n",
            "Epoch: 3 \t Train: 94.3% \t Test: 72.2% \t Loss: 1.17\n",
            "Epoch: 4 \t Train: 95.0% \t Test: 73.4% \t Loss: 0.88\n",
            "Epoch: 5 \t Train: 95.7% \t Test: 71.7% \t Loss: 0.69\n",
            "Epoch: 6 \t Train: 97.9% \t Test: 73.4% \t Loss: 0.50\n",
            "Epoch: 7 \t Train: 97.9% \t Test: 73.0% \t Loss: 0.39\n",
            "Epoch: 8 \t Train: 96.4% \t Test: 73.2% \t Loss: 0.28\n",
            "Epoch: 9 \t Train: 97.1% \t Test: 72.8% \t Loss: 0.22\n"
          ]
        }
      ]
    },
    {
      "cell_type": "code",
      "metadata": {
        "id": "c8FOyNmaO3Ml"
      },
      "source": [
        "(pred[:,logit_target].shape,\n",
        "data.y[data.train_mask].shape)\n",
        "\n",
        "pred[:,logit_target]"
      ],
      "execution_count": null,
      "outputs": []
    }
  ]
}