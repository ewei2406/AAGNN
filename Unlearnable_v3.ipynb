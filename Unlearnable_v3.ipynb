{
  "cells": [
    {
      "cell_type": "markdown",
      "metadata": {
        "id": "symSU7Gtxf-g"
      },
      "source": [
        "# Requirements"
      ]
    },
    {
      "cell_type": "code",
      "execution_count": 5,
      "metadata": {},
      "outputs": [],
      "source": [
        "import torch\n",
        "import torch_geometric"
      ]
    },
    {
      "cell_type": "code",
      "execution_count": 6,
      "metadata": {
        "id": "kaRqsWmgxWRt"
      },
      "outputs": [],
      "source": [
        "import torch\n",
        "import torch_geometric\n",
        "import seaborn as sns\n",
        "import numpy as np\n",
        "import pandas as pd\n",
        "import torch.nn.functional as F\n",
        "import matplotlib.pyplot as plt"
      ]
    },
    {
      "cell_type": "code",
      "execution_count": 7,
      "metadata": {
        "id": "5g0Dn9bgxYtj"
      },
      "outputs": [],
      "source": [
        "from torch_geometric.loader import DataLoader\n",
        "from torch_geometric.datasets import Planetoid\n",
        "from torch_geometric.utils.dropout import dropout_adj\n",
        "from torch_geometric.nn import DenseGCNConv"
      ]
    },
    {
      "cell_type": "markdown",
      "metadata": {
        "id": "EQOwg0RGxddC"
      },
      "source": [
        "# Data"
      ]
    },
    {
      "cell_type": "code",
      "execution_count": 8,
      "metadata": {
        "id": "CKd6KSuexaxE"
      },
      "outputs": [
        {
          "name": "stderr",
          "output_type": "stream",
          "text": [
            "Downloading https://github.com/kimiyoung/planetoid/raw/master/data/ind.cora.x\n",
            "Downloading https://github.com/kimiyoung/planetoid/raw/master/data/ind.cora.tx\n",
            "Downloading https://github.com/kimiyoung/planetoid/raw/master/data/ind.cora.allx\n",
            "Downloading https://github.com/kimiyoung/planetoid/raw/master/data/ind.cora.y\n",
            "Downloading https://github.com/kimiyoung/planetoid/raw/master/data/ind.cora.ty\n",
            "Downloading https://github.com/kimiyoung/planetoid/raw/master/data/ind.cora.ally\n",
            "Downloading https://github.com/kimiyoung/planetoid/raw/master/data/ind.cora.graph\n",
            "Downloading https://github.com/kimiyoung/planetoid/raw/master/data/ind.cora.test.index\n",
            "Processing...\n",
            "Done!\n"
          ]
        }
      ],
      "source": [
        "dataset = Planetoid(root='/tmp/Cora', name='Cora')\n",
        "data = dataset[0]"
      ]
    },
    {
      "cell_type": "code",
      "execution_count": 9,
      "metadata": {
        "id": "47sv1tYByKfk"
      },
      "outputs": [],
      "source": [
        "device = torch.device('cuda' if torch.cuda.is_available() else 'cpu')\n",
        "data = dataset[0].to(device)"
      ]
    },
    {
      "cell_type": "markdown",
      "metadata": {
        "id": "uQtQ0RSBxpfc"
      },
      "source": [
        "# Functions"
      ]
    },
    {
      "cell_type": "code",
      "execution_count": 10,
      "metadata": {
        "id": "aeK75O8Bxo88"
      },
      "outputs": [],
      "source": [
        "def to_sparse(edge_ind):\n",
        "  return torch.sparse_coo_tensor(edge_ind, torch.ones_like(edge_ind[0])).to_dense()\n",
        "\n",
        "def to_index(sparse):\n",
        "  res = sparse.float().nonzero().permute(1,0)\n",
        "  return res\n",
        "\n",
        "def mirror(sparse):\n",
        "  upper = torch.triu(sparse)\n",
        "  lower = torch.rot90(torch.flip(torch.triu(sparse, diagonal=1), [0]), 3, [0,1])\n",
        "  return upper + lower\n",
        "\n",
        "def set_diagonal(sparse, target=0):\n",
        "  copy = sparse.clone()\n",
        "  return copy.fill_diagonal_(target)\n",
        "\n",
        "def make_symmetric(sparse):\n",
        "  res = mirror(sparse)\n",
        "  # res = set_diagonal(res)\n",
        "  return res\n",
        "\n",
        "def invert_by(sparse, flip_dense):\n",
        "  return (sparse + flip_dense) - torch.mul(sparse * flip_dense, 2)\n"
      ]
    },
    {
      "cell_type": "markdown",
      "metadata": {
        "id": "tnikVMG5xkmY"
      },
      "source": [
        "# Model"
      ]
    },
    {
      "cell_type": "code",
      "execution_count": 11,
      "metadata": {
        "id": "1u8hnmitxkEM"
      },
      "outputs": [],
      "source": [
        "class GCN_Dense(torch.nn.Module):\n",
        "    def __init__(self):\n",
        "        super().__init__()\n",
        "        self.conv1 = DenseGCNConv(dataset.num_node_features, 64)\n",
        "        self.conv2 = DenseGCNConv(64, dataset.num_classes)\n",
        "\n",
        "    def forward(self, x, dense):\n",
        "        # x, edge_index = data.x, data.edge_index\n",
        "\n",
        "        x = self.conv1(x, dense)\n",
        "        x = F.relu(x)\n",
        "        x = F.dropout(x, training=self.training)\n",
        "        x = self.conv2(x, dense)\n",
        "\n",
        "        return F.log_softmax(x, dim=1)"
      ]
    },
    {
      "cell_type": "markdown",
      "metadata": {
        "id": "VTcha-Pvxs4y"
      },
      "source": [
        "# Train a model regularly"
      ]
    },
    {
      "cell_type": "code",
      "execution_count": 12,
      "metadata": {
        "id": "yZ2XK--WxssI"
      },
      "outputs": [],
      "source": [
        "def denseTrain(model_dense, data, optimizer, epochs, hide_res = False):\n",
        "  model_dense.train()\n",
        "  res = []\n",
        "  for epoch in range(epochs):\n",
        "    optimizer.zero_grad()\n",
        "\n",
        "    pred = model_dense(data.x, to_sparse(data.edge_index)).squeeze()\n",
        "\n",
        "    train_correct = (pred.squeeze().argmax(1)[data.train_mask] == data.y[data.train_mask]).sum()\n",
        "    train_acc = int(train_correct) / int(data.train_mask.sum())\n",
        "\n",
        "    test_correct = (pred.squeeze().argmax(1)[data.test_mask] == data.y[data.test_mask]).sum()\n",
        "    test_acc = int(test_correct) / int(data.test_mask.sum())\n",
        "\n",
        "    loss = F.cross_entropy(pred[data.train_mask], data.y[data.train_mask])\n",
        "    if not hide_res:\n",
        "      print(f\"Epoch: {epoch + 1} \\t (C) Train: {train_acc*100:<.1f}% \\t (C) Test: {test_acc*100:<.1f}% \\t Train Loss: {loss:<.2f}\")\n",
        "    \n",
        "    loss.backward()\n",
        "    optimizer.step()\n",
        "\n",
        "    res.append([epoch, train_acc, test_acc, loss.item() / 2])\n",
        "\n",
        "  return res\n",
        "\n",
        "def denseTrainVersusReal(model_dense, data_altered, data_real, optimizer, epochs):\n",
        "  model_dense.train()\n",
        "  res = []\n",
        "\n",
        "  for epoch in range(epochs):\n",
        "    optimizer.zero_grad()\n",
        "\n",
        "    pred = model_dense(data_altered.x, to_sparse(data_altered.edge_index)).squeeze()\n",
        "\n",
        "    train_correct = (pred.squeeze().argmax(1)[data_altered.train_mask] == data_altered.y[data_altered.train_mask]).sum()\n",
        "    train_acc = int(train_correct) / int(data_altered.train_mask.sum())\n",
        "\n",
        "    real_pred = model_dense(data_real.x, to_sparse(data_real.edge_index)).squeeze()\n",
        "\n",
        "    test_correct = (real_pred.squeeze().argmax(1)[data_real.test_mask] == data_real.y[data_real.test_mask]).sum()\n",
        "    test_acc = int(test_correct) / int(data_real.test_mask.sum())\n",
        "\n",
        "    loss = F.cross_entropy(pred[data_altered.train_mask], data_altered.y[data_altered.train_mask])\n",
        "    print(f\"Epoch: {epoch + 1} \\t (A) Train: {train_acc*100:<.1f}% \\t (C) Test: {test_acc*100:<.1f}% \\t Train Loss: {loss:<.2f}\")\n",
        "    \n",
        "    loss.backward()\n",
        "    optimizer.step()\n",
        "\n",
        "    res.append([epoch, train_acc, test_acc, loss.item() / 2])\n",
        "\n",
        "  return res"
      ]
    },
    {
      "cell_type": "code",
      "execution_count": 13,
      "metadata": {
        "id": "UTEI2JwmfhdG"
      },
      "outputs": [],
      "source": [
        "def showGraph(res, style=\"\"):\n",
        "  n = np.array(res)\n",
        "  df = pd.DataFrame(data=n, columns=[\"Epoch\", \"train_acc\", \"test_acc\", \"train_loss\"])\n",
        "  sns.lineplot(data=pd.melt(df, ['Epoch']), x='Epoch', y='value', hue='variable', linestyle=style)"
      ]
    },
    {
      "cell_type": "code",
      "execution_count": 14,
      "metadata": {
        "colab": {
          "base_uri": "https://localhost:8080/"
        },
        "id": "7vKE1tYJxxSq",
        "outputId": "9d13fccd-e949-4ffe-c168-01ced08ac7fe"
      },
      "outputs": [
        {
          "name": "stdout",
          "output_type": "stream",
          "text": [
            "Epoch: 1 \t (C) Train: 15.7% \t (C) Test: 15.3% \t Train Loss: 1.94\n",
            "Epoch: 2 \t (C) Train: 85.7% \t (C) Test: 56.2% \t Train Loss: 1.69\n",
            "Epoch: 3 \t (C) Train: 93.6% \t (C) Test: 66.7% \t Train Loss: 1.39\n",
            "Epoch: 4 \t (C) Train: 92.9% \t (C) Test: 69.6% \t Train Loss: 1.09\n",
            "Epoch: 5 \t (C) Train: 95.0% \t (C) Test: 71.3% \t Train Loss: 0.81\n",
            "Epoch: 6 \t (C) Train: 97.1% \t (C) Test: 75.1% \t Train Loss: 0.61\n",
            "Epoch: 7 \t (C) Train: 96.4% \t (C) Test: 74.6% \t Train Loss: 0.46\n",
            "Epoch: 8 \t (C) Train: 95.7% \t (C) Test: 77.2% \t Train Loss: 0.34\n",
            "Epoch: 9 \t (C) Train: 97.1% \t (C) Test: 76.2% \t Train Loss: 0.24\n",
            "Epoch: 10 \t (C) Train: 97.9% \t (C) Test: 77.2% \t Train Loss: 0.18\n"
          ]
        },
        {
          "data": {
            "text/plain": [
              "[[0, 0.15714285714285714, 0.153, 0.9701910018920898],\n",
              " [1, 0.8571428571428571, 0.562, 0.8442350029945374],\n",
              " [2, 0.9357142857142857, 0.667, 0.697474479675293],\n",
              " [3, 0.9285714285714286, 0.696, 0.5433295965194702],\n",
              " [4, 0.95, 0.713, 0.4060267210006714],\n",
              " [5, 0.9714285714285714, 0.751, 0.3025546967983246],\n",
              " [6, 0.9642857142857143, 0.746, 0.2279176563024521],\n",
              " [7, 0.9571428571428572, 0.772, 0.17018283903598785],\n",
              " [8, 0.9714285714285714, 0.762, 0.1221892237663269],\n",
              " [9, 0.9785714285714285, 0.772, 0.0895456075668335]]"
            ]
          },
          "execution_count": 14,
          "metadata": {},
          "output_type": "execute_result"
        }
      ],
      "source": [
        "model_dense = GCN_Dense().to(device)\n",
        "optimizer = torch.optim.Adam(model_dense.parameters(), lr=0.01, weight_decay=5e-4)\n",
        "denseTrain(model_dense, data, optimizer, 10)"
      ]
    },
    {
      "cell_type": "markdown",
      "metadata": {
        "id": "OfGsUSr1THUO"
      },
      "source": [
        "# Implementation from Topology paper: https://arxiv.org/pdf/1906.04214.pdf"
      ]
    },
    {
      "cell_type": "code",
      "execution_count": 15,
      "metadata": {
        "colab": {
          "base_uri": "https://localhost:8080/"
        },
        "id": "bxg61YqzQtsq",
        "outputId": "401dcc72-17d4-41ab-f619-7b988bb0f1f5"
      },
      "outputs": [
        {
          "name": "stdout",
          "output_type": "stream",
          "text": [
            "REGULAR MODEL =========================\n",
            "Epoch: 1 \t (C) Train: 5.0% \t (C) Test: 13.8% \t Train Loss: 1.97\n",
            "Epoch: 2 \t (C) Train: 87.9% \t (C) Test: 60.3% \t Train Loss: 1.74\n",
            "Epoch: 3 \t (C) Train: 92.9% \t (C) Test: 68.4% \t Train Loss: 1.48\n",
            "Epoch: 4 \t (C) Train: 97.1% \t (C) Test: 72.6% \t Train Loss: 1.17\n",
            "Epoch: 5 \t (C) Train: 97.9% \t (C) Test: 72.4% \t Train Loss: 0.91\n",
            "Epoch: 6 \t (C) Train: 98.6% \t (C) Test: 72.6% \t Train Loss: 0.69\n",
            "Epoch: 7 \t (C) Train: 95.7% \t (C) Test: 73.7% \t Train Loss: 0.53\n",
            "Epoch: 8 \t (C) Train: 97.9% \t (C) Test: 72.1% \t Train Loss: 0.38\n",
            "Epoch: 9 \t (C) Train: 98.6% \t (C) Test: 73.1% \t Train Loss: 0.31\n",
            "Epoch: 10 \t (C) Train: 96.4% \t (C) Test: 71.1% \t Train Loss: 0.23\n",
            "Epoch: 11 \t (C) Train: 97.9% \t (C) Test: 72.5% \t Train Loss: 0.19\n",
            "Epoch: 12 \t (C) Train: 97.9% \t (C) Test: 72.7% \t Train Loss: 0.15\n",
            "Epoch: 13 \t (C) Train: 99.3% \t (C) Test: 74.1% \t Train Loss: 0.11\n",
            "Epoch: 14 \t (C) Train: 99.3% \t (C) Test: 76.4% \t Train Loss: 0.07\n",
            "Epoch: 15 \t (C) Train: 100.0% \t (C) Test: 75.7% \t Train Loss: 0.07\n",
            "Epoch: 16 \t (C) Train: 99.3% \t (C) Test: 75.7% \t Train Loss: 0.06\n",
            "Epoch: 17 \t (C) Train: 100.0% \t (C) Test: 75.7% \t Train Loss: 0.04\n",
            "Epoch: 18 \t (C) Train: 100.0% \t (C) Test: 73.4% \t Train Loss: 0.04\n",
            "Epoch: 19 \t (C) Train: 99.3% \t (C) Test: 72.4% \t Train Loss: 0.04\n",
            "Epoch: 20 \t (C) Train: 99.3% \t (C) Test: 73.2% \t Train Loss: 0.03\n",
            "Epoch: 21 \t (C) Train: 100.0% \t (C) Test: 73.1% \t Train Loss: 0.03\n",
            "Epoch: 22 \t (C) Train: 100.0% \t (C) Test: 74.7% \t Train Loss: 0.02\n",
            "Epoch: 23 \t (C) Train: 100.0% \t (C) Test: 72.1% \t Train Loss: 0.02\n",
            "Epoch: 24 \t (C) Train: 100.0% \t (C) Test: 72.9% \t Train Loss: 0.02\n",
            "Epoch: 25 \t (C) Train: 100.0% \t (C) Test: 75.1% \t Train Loss: 0.01\n",
            "Epoch: 26 \t (C) Train: 99.3% \t (C) Test: 74.6% \t Train Loss: 0.03\n",
            "Epoch: 27 \t (C) Train: 100.0% \t (C) Test: 75.1% \t Train Loss: 0.02\n",
            "Epoch: 28 \t (C) Train: 99.3% \t (C) Test: 75.7% \t Train Loss: 0.02\n",
            "Epoch: 29 \t (C) Train: 99.3% \t (C) Test: 78.5% \t Train Loss: 0.01\n",
            "Epoch: 30 \t (C) Train: 100.0% \t (C) Test: 76.7% \t Train Loss: 0.01\n",
            "ATTACK THE DATA =======================\n",
            "Attack Epoch: 1/5 \t Best sample loss: 0.604 \t Edges altered: 43996/7333264\n",
            "Attack Epoch: 2/5 \t Best sample loss: 0.451 \t Edges altered: 44280/7333264\n",
            "Attack Epoch: 3/5 \t Best sample loss: 0.401 \t Edges altered: 44510/7333264\n",
            "Attack Epoch: 4/5 \t Best sample loss: 0.369 \t Edges altered: 44852/7333264\n",
            "Attack Epoch: 5/5 \t Best sample loss: 0.330 \t Edges altered: 44738/7333264\n",
            "TRAIN MODEL ON ATTACKED DATA ==========\n",
            "Epoch: 1 \t (A) Train: 26.4% \t (C) Test: 12.3% \t Train Loss: 1.94\n",
            "Epoch: 2 \t (A) Train: 82.9% \t (C) Test: 53.7% \t Train Loss: 1.61\n",
            "Epoch: 3 \t (A) Train: 90.0% \t (C) Test: 63.2% \t Train Loss: 1.26\n",
            "Epoch: 4 \t (A) Train: 99.3% \t (C) Test: 68.3% \t Train Loss: 0.91\n",
            "Epoch: 5 \t (A) Train: 100.0% \t (C) Test: 69.7% \t Train Loss: 0.64\n",
            "Epoch: 6 \t (A) Train: 100.0% \t (C) Test: 69.9% \t Train Loss: 0.40\n",
            "Epoch: 7 \t (A) Train: 100.0% \t (C) Test: 68.8% \t Train Loss: 0.24\n",
            "Epoch: 8 \t (A) Train: 100.0% \t (C) Test: 67.3% \t Train Loss: 0.16\n",
            "Epoch: 9 \t (A) Train: 100.0% \t (C) Test: 68.9% \t Train Loss: 0.11\n",
            "Epoch: 10 \t (A) Train: 100.0% \t (C) Test: 67.7% \t Train Loss: 0.06\n",
            "Epoch: 11 \t (A) Train: 100.0% \t (C) Test: 71.6% \t Train Loss: 0.04\n",
            "Epoch: 12 \t (A) Train: 100.0% \t (C) Test: 64.5% \t Train Loss: 0.02\n",
            "Epoch: 13 \t (A) Train: 100.0% \t (C) Test: 67.1% \t Train Loss: 0.02\n",
            "Epoch: 14 \t (A) Train: 100.0% \t (C) Test: 64.4% \t Train Loss: 0.02\n",
            "Epoch: 15 \t (A) Train: 100.0% \t (C) Test: 64.7% \t Train Loss: 0.01\n",
            "Epoch: 16 \t (A) Train: 100.0% \t (C) Test: 66.8% \t Train Loss: 0.01\n",
            "Epoch: 17 \t (A) Train: 100.0% \t (C) Test: 67.2% \t Train Loss: 0.01\n",
            "Epoch: 18 \t (A) Train: 100.0% \t (C) Test: 67.9% \t Train Loss: 0.01\n",
            "Epoch: 19 \t (A) Train: 100.0% \t (C) Test: 68.0% \t Train Loss: 0.00\n",
            "Epoch: 20 \t (A) Train: 100.0% \t (C) Test: 69.5% \t Train Loss: 0.00\n",
            "Epoch: 21 \t (A) Train: 100.0% \t (C) Test: 69.3% \t Train Loss: 0.00\n",
            "Epoch: 22 \t (A) Train: 100.0% \t (C) Test: 69.9% \t Train Loss: 0.00\n",
            "Epoch: 23 \t (A) Train: 100.0% \t (C) Test: 71.9% \t Train Loss: 0.00\n",
            "Epoch: 24 \t (A) Train: 100.0% \t (C) Test: 76.1% \t Train Loss: 0.00\n",
            "Epoch: 25 \t (A) Train: 100.0% \t (C) Test: 72.7% \t Train Loss: 0.00\n",
            "Epoch: 26 \t (A) Train: 100.0% \t (C) Test: 77.7% \t Train Loss: 0.00\n",
            "Epoch: 27 \t (A) Train: 100.0% \t (C) Test: 76.1% \t Train Loss: 0.00\n",
            "Epoch: 28 \t (A) Train: 100.0% \t (C) Test: 76.2% \t Train Loss: 0.00\n",
            "Epoch: 29 \t (A) Train: 100.0% \t (C) Test: 77.9% \t Train Loss: 0.00\n",
            "Epoch: 30 \t (A) Train: 100.0% \t (C) Test: 77.9% \t Train Loss: 0.00\n"
          ]
        }
      ],
      "source": [
        "def min_min_attack(model, data, epsilon=5, attack_epochs=5):\n",
        "\n",
        "  edges = to_sparse(data.edge_index).float() # Create adjacency matrix\n",
        "  edges.requires_grad = True\n",
        "\n",
        "  pred = model(data.x, edges).squeeze() # Initial prediction from clean data\n",
        "  \n",
        "  for epoch in range(attack_epochs):\n",
        "\n",
        "    loss = - F.cross_entropy(pred[data.train_mask], data.y[data.train_mask]) # Calculate loss of prediction on clean data\n",
        "    loss.backward()\n",
        "\n",
        "    grad = edges.grad.detach()\n",
        "    grad = grad * (1/grad.max()) # Scale the gradient maximum to 1\n",
        "    grad = (grad * epsilon).clamp(0,1) # Amplify by epsilon, Keep only range (0,1)\n",
        "\n",
        "    min_loss = 1000 # Initialize min loss\n",
        "\n",
        "    for k in range(3):\n",
        "      sample = torch.bernoulli(grad) # Draw bernoulli samples from the gradient of adj. matrix\n",
        "\n",
        "      sample = make_symmetric(sample) # Repair the sample so that it is symmetric about the diagonal\n",
        "\n",
        "      perturbed_data = invert_by(edges, sample) # Invert the adjacency matrix by the sample drawn\n",
        "\n",
        "      attack_pred = model(data.x, perturbed_data).squeeze() # Get the loss of the new perturbed data\n",
        "      loss = F.cross_entropy(attack_pred[data.train_mask], data.y[data.train_mask])\n",
        "\n",
        "      if loss < min_loss: # Check to see if the loss is lower than before\n",
        "        min_loss = loss\n",
        "        min_loss_data = perturbed_data\n",
        "        edges_altered = sample.sum()\n",
        "\n",
        "    print(f\"Attack Epoch: {epoch+1}/{attack_epochs} \\t Best sample loss: {min_loss:<.3f} \\t Edges altered: {sample.sum():<.0f}/{2708 ** 2}\")\n",
        "\n",
        "    pred = model(data.x, min_loss_data).squeeze() # Redo prediction to get lower loss\n",
        "\n",
        "  return min_loss_data\n",
        "\n",
        "print(\"REGULAR MODEL =========================\") # Train a regular model\n",
        "model_dense = GCN_Dense().to(device)\n",
        "optimizer = torch.optim.Adam(model_dense.parameters(), lr=0.01, weight_decay=5e-4)\n",
        "reg = denseTrain(model_dense, data, optimizer, 30)\n",
        "\n",
        "print(\"ATTACK THE DATA =======================\") # Attack the data\n",
        "\n",
        "model_dense = GCN_Dense().to(device) # Train a surrogate model\n",
        "optimizer = torch.optim.Adam(model_dense.parameters(), lr=0.01, weight_decay=5e-4)\n",
        "denseTrain(model_dense, data, optimizer, 5, hide_res = True)\n",
        "\n",
        "perturbed_edges = min_min_attack(model_dense, data) # Use the surrogate model to create a perturbed dataset\n",
        "perturbed_data = data.clone()\n",
        "perturbed_data.edge_index = to_index(perturbed_edges)\n",
        "\n",
        "print(\"TRAIN MODEL ON ATTACKED DATA ==========\") # Train a model on the perturbed dataset\n",
        "attacked_model = GCN_Dense().to(device)\n",
        "optimizer = torch.optim.Adam(attacked_model.parameters(), lr=0.01, weight_decay=5e-4) # (C) is Clean, (A) is Attacked\n",
        "atk = denseTrainVersusReal(attacked_model, perturbed_data, data, optimizer, 30)"
      ]
    },
    {
      "cell_type": "code",
      "execution_count": 16,
      "metadata": {
        "colab": {
          "base_uri": "https://localhost:8080/",
          "height": 279
        },
        "id": "S3AIjrkYh6Js",
        "outputId": "64194504-1082-473b-e850-a0bd6bfbd2e0"
      },
      "outputs": [
        {
          "data": {
            "image/png": "[encoded data removed]",
            "text/plain": [
              "<Figure size 432x288 with 1 Axes>"
            ]
          },
          "metadata": {
            "needs_background": "light"
          },
          "output_type": "display_data"
        }
      ],
      "source": [
        "showGraph(reg, \"dotted\") # Regular model results are dotted\n",
        "showGraph(atk, \"-\")"
      ]
    },
    {
      "cell_type": "markdown",
      "metadata": {
        "id": "Vxc7NTU7tr2w"
      },
      "source": [
        "# Greedy implementation (NOT WORKING YET!!!)"
      ]
    },
    {
      "cell_type": "code",
      "execution_count": 17,
      "metadata": {
        "id": "gfwjEGOnbNnc"
      },
      "outputs": [
        {
          "name": "stdout",
          "output_type": "stream",
          "text": [
            "REGULAR MODEL =========================\n",
            "Epoch: 1 \t (C) Train: 10.7% \t (C) Test: 13.9% \t Train Loss: 1.96\n",
            "ATTACK THE DATA =======================\n"
          ]
        },
        {
          "ename": "UnboundLocalError",
          "evalue": "local variable 'sample' referenced before assignment",
          "output_type": "error",
          "traceback": [
            "\u001b[1;31m---------------------------------------------------------------------------\u001b[0m",
            "\u001b[1;31mUnboundLocalError\u001b[0m                         Traceback (most recent call last)",
            "\u001b[1;32m~\\AppData\\Local\\Temp/ipykernel_5036/2109788359.py\u001b[0m in \u001b[0;36m<module>\u001b[1;34m\u001b[0m\n\u001b[0;32m     53\u001b[0m \u001b[0mdenseTrain\u001b[0m\u001b[1;33m(\u001b[0m\u001b[0mmodel_dense\u001b[0m\u001b[1;33m,\u001b[0m \u001b[0mdata\u001b[0m\u001b[1;33m,\u001b[0m \u001b[0moptimizer\u001b[0m\u001b[1;33m,\u001b[0m \u001b[1;36m7\u001b[0m\u001b[1;33m,\u001b[0m \u001b[0mhide_res\u001b[0m \u001b[1;33m=\u001b[0m \u001b[1;32mTrue\u001b[0m\u001b[1;33m)\u001b[0m\u001b[1;33m\u001b[0m\u001b[1;33m\u001b[0m\u001b[0m\n\u001b[0;32m     54\u001b[0m \u001b[1;33m\u001b[0m\u001b[0m\n\u001b[1;32m---> 55\u001b[1;33m \u001b[0mperturbed_edges\u001b[0m \u001b[1;33m=\u001b[0m \u001b[0mgreedy_min_min_attack\u001b[0m\u001b[1;33m(\u001b[0m\u001b[0mmodel_dense\u001b[0m\u001b[1;33m,\u001b[0m \u001b[0mdata\u001b[0m\u001b[1;33m)\u001b[0m \u001b[1;31m# Use the surrogate model to create a perturbed dataset\u001b[0m\u001b[1;33m\u001b[0m\u001b[1;33m\u001b[0m\u001b[0m\n\u001b[0m\u001b[0;32m     56\u001b[0m \u001b[0mperturbed_data\u001b[0m \u001b[1;33m=\u001b[0m \u001b[0mdata\u001b[0m\u001b[1;33m.\u001b[0m\u001b[0mclone\u001b[0m\u001b[1;33m(\u001b[0m\u001b[1;33m)\u001b[0m\u001b[1;33m\u001b[0m\u001b[1;33m\u001b[0m\u001b[0m\n\u001b[0;32m     57\u001b[0m \u001b[0mperturbed_data\u001b[0m\u001b[1;33m.\u001b[0m\u001b[0medge_index\u001b[0m \u001b[1;33m=\u001b[0m \u001b[0mto_index\u001b[0m\u001b[1;33m(\u001b[0m\u001b[0mperturbed_edges\u001b[0m\u001b[1;33m)\u001b[0m\u001b[1;33m\u001b[0m\u001b[1;33m\u001b[0m\u001b[0m\n",
            "\u001b[1;32m~\\AppData\\Local\\Temp/ipykernel_5036/2109788359.py\u001b[0m in \u001b[0;36mgreedy_min_min_attack\u001b[1;34m(model, data, epsilon, attack_epochs)\u001b[0m\n\u001b[0;32m     24\u001b[0m       \u001b[1;31m# print(sample.shape, indices[0])\u001b[0m\u001b[1;33m\u001b[0m\u001b[1;33m\u001b[0m\u001b[0m\n\u001b[0;32m     25\u001b[0m \u001b[1;33m\u001b[0m\u001b[0m\n\u001b[1;32m---> 26\u001b[1;33m       \u001b[0msample\u001b[0m \u001b[1;33m=\u001b[0m \u001b[0mmake_symmetric\u001b[0m\u001b[1;33m(\u001b[0m\u001b[0msample\u001b[0m\u001b[1;33m)\u001b[0m \u001b[1;31m# Repair the sample so that it is symmetric about the diagonal\u001b[0m\u001b[1;33m\u001b[0m\u001b[1;33m\u001b[0m\u001b[0m\n\u001b[0m\u001b[0;32m     27\u001b[0m \u001b[1;33m\u001b[0m\u001b[0m\n\u001b[0;32m     28\u001b[0m       \u001b[0mperturbed_data\u001b[0m \u001b[1;33m=\u001b[0m \u001b[0minvert_by\u001b[0m\u001b[1;33m(\u001b[0m\u001b[0medges\u001b[0m\u001b[1;33m,\u001b[0m \u001b[0msample\u001b[0m\u001b[1;33m)\u001b[0m \u001b[1;31m# Invert the adjacency matrix by the sample drawn\u001b[0m\u001b[1;33m\u001b[0m\u001b[1;33m\u001b[0m\u001b[0m\n",
            "\u001b[1;31mUnboundLocalError\u001b[0m: local variable 'sample' referenced before assignment"
          ]
        }
      ],
      "source": [
        "def greedy_min_min_attack(model, data, epsilon=100000, attack_epochs=10):\n",
        "\n",
        "  edges = to_sparse(data.edge_index).float() # Create adjacency matrix\n",
        "  edges.requires_grad = True\n",
        "\n",
        "  pred = model(data.x, edges).squeeze() # Initial prediction from clean data\n",
        "  \n",
        "  for epoch in range(attack_epochs):\n",
        "\n",
        "    loss = - F.cross_entropy(pred[data.train_mask], data.y[data.train_mask]) # Calculate loss of prediction on clean data\n",
        "    loss.backward()\n",
        "\n",
        "    grad = edges.grad.detach()\n",
        "\n",
        "    min_loss = 1000 # Initialize min loss\n",
        "\n",
        "    for k in range(3):\n",
        "\n",
        "      v, i = torch.topk(grad.flatten(), epsilon)\n",
        "      indices = np.array(np.unravel_index(i.numpy(), grad.shape)).T\n",
        "\n",
        "      # sample = to_sparse(torch.tensor(indices))\n",
        "\n",
        "      # print(sample.shape, indices[0])\n",
        "\n",
        "      sample = make_symmetric(sample) # Repair the sample so that it is symmetric about the diagonal\n",
        "\n",
        "      perturbed_data = invert_by(edges, sample) # Invert the adjacency matrix by the sample drawn\n",
        "\n",
        "      attack_pred = model(data.x, perturbed_data).squeeze() # Get the loss of the new perturbed data\n",
        "      loss = F.cross_entropy(attack_pred[data.train_mask], data.y[data.train_mask])\n",
        "\n",
        "      if loss < min_loss: # Check to see if the loss is lower than before\n",
        "        min_loss = loss\n",
        "        min_loss_data = perturbed_data\n",
        "        edges_altered = sample.sum()\n",
        "\n",
        "    print(f\"Attack Epoch: {epoch+1}/{attack_epochs} \\t Best sample loss: {min_loss:<.3f} \\t Edges altered: {sample.sum():<.0f}/{2708 ** 2}\")\n",
        "\n",
        "    pred = model(data.x, min_loss_data).squeeze() # Redo prediction to get lower loss\n",
        "\n",
        "  return min_loss_data\n",
        "\n",
        "print(\"REGULAR MODEL =========================\") # Train a regular model\n",
        "model_dense = GCN_Dense().to(device)\n",
        "optimizer = torch.optim.Adam(model_dense.parameters(), lr=0.01, weight_decay=5e-4)\n",
        "reg = denseTrain(model_dense, data, optimizer, 1)\n",
        "\n",
        "print(\"ATTACK THE DATA =======================\") # Attack the data\n",
        "\n",
        "model_dense = GCN_Dense().to(device) # Train a surrogate model\n",
        "optimizer = torch.optim.Adam(model_dense.parameters(), lr=0.01, weight_decay=5e-4)\n",
        "denseTrain(model_dense, data, optimizer, 7, hide_res = True)\n",
        "\n",
        "perturbed_edges = greedy_min_min_attack(model_dense, data) # Use the surrogate model to create a perturbed dataset\n",
        "perturbed_data = data.clone()\n",
        "perturbed_data.edge_index = to_index(perturbed_edges)\n",
        "\n",
        "print(\"TRAIN MODEL ON ATTACKED DATA ==========\") # Train a model on the perturbed dataset\n",
        "attacked_model = GCN_Dense().to(device)\n",
        "optimizer = torch.optim.Adam(attacked_model.parameters(), lr=0.01, weight_decay=5e-4) # (C) is Clean, (A) is Attacked\n",
        "atk = denseTrainVersusReal(attacked_model, perturbed_data, data, optimizer, 10)"
      ]
    }
  ],
  "metadata": {
    "colab": {
      "name": "Unlearnable v3",
      "provenance": []
    },
    "kernelspec": {
      "display_name": "Python 3",
      "name": "python3"
    },
    "language_info": {
      "codemirror_mode": {
        "name": "ipython",
        "version": 3
      },
      "file_extension": ".py",
      "mimetype": "text/x-python",
      "name": "python",
      "nbconvert_exporter": "python",
      "pygments_lexer": "ipython3",
      "version": "3.9.7"
    }
  },
  "nbformat": 4,
  "nbformat_minor": 0
}
